{
 "cells": [
  {
   "cell_type": "markdown",
   "id": "f62b273b",
   "metadata": {},
   "source": [
    "## Mocktest Move Zero's"
   ]
  },
  {
   "cell_type": "markdown",
   "id": "008f51a4",
   "metadata": {},
   "source": [
    "Q Given an integer array nums, move all 0's to the end of it while maintaining the relative order of the non-zero elements.\n",
    "\n",
    "Note that you must do this in-place without making a copy of the array.\n",
    "\n",
    "Example 1:\n",
    "Input: nums = [0,1,0,3,12]\n",
    "Output: [1,3,12,0,0]\n",
    "\n",
    "Example 2:\n",
    "Input: nums = [0]\n",
    "Output: [0]\n",
    "\n",
    "Constraints:\n",
    "a. 1 <= nums.length <= 10^4\n",
    "b. -2^31 <= nums[i] <= 2^31 - 1"
   ]
  },
  {
   "cell_type": "markdown",
   "id": "877fd51b",
   "metadata": {},
   "source": [
    "### Let's use two pointer approach"
   ]
  },
  {
   "cell_type": "code",
   "execution_count": 10,
   "id": "652e3ca8",
   "metadata": {},
   "outputs": [],
   "source": [
    "def Movzero(n):\n",
    "    left = 0 \n",
    "    right = 0 \n",
    "    \n",
    "    while right < len(n):\n",
    "        if n[right] != 0:\n",
    "            n[left], n[right] = n[right], n[left]\n",
    "            left += 1\n",
    "        right += 1\n"
   ]
  },
  {
   "cell_type": "code",
   "execution_count": 13,
   "id": "36efa239",
   "metadata": {},
   "outputs": [
    {
     "name": "stdout",
     "output_type": "stream",
     "text": [
      "[1, 3, 12, 0, 0]\n"
     ]
    }
   ],
   "source": [
    "# Test case 1\n",
    "n1 = [0, 1, 0, 3, 12]\n",
    "Movzero(n1)\n",
    "print(n1)"
   ]
  },
  {
   "cell_type": "code",
   "execution_count": 14,
   "id": "3ca9855a",
   "metadata": {},
   "outputs": [
    {
     "name": "stdout",
     "output_type": "stream",
     "text": [
      "[0]\n"
     ]
    }
   ],
   "source": [
    "# Test case 2\n",
    "n2 = [0]\n",
    "Movzero(n2)\n",
    "print(n2)  # Output: [0]"
   ]
  },
  {
   "cell_type": "code",
   "execution_count": null,
   "id": "976673ba",
   "metadata": {},
   "outputs": [],
   "source": []
  }
 ],
 "metadata": {
  "kernelspec": {
   "display_name": "Python 3 (ipykernel)",
   "language": "python",
   "name": "python3"
  },
  "language_info": {
   "codemirror_mode": {
    "name": "ipython",
    "version": 3
   },
   "file_extension": ".py",
   "mimetype": "text/x-python",
   "name": "python",
   "nbconvert_exporter": "python",
   "pygments_lexer": "ipython3",
   "version": "3.10.9"
  }
 },
 "nbformat": 4,
 "nbformat_minor": 5
}
