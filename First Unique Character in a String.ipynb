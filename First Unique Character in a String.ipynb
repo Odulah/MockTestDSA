{
 "cells": [
  {
   "cell_type": "markdown",
   "id": "57cf6534",
   "metadata": {},
   "source": [
    "# Mock Test First Unique Character in a String"
   ]
  },
  {
   "cell_type": "markdown",
   "id": "fbb47d45",
   "metadata": {},
   "source": [
    "Given a string s, find the first non-repeating character in it and return its index. If it does not exist, return -1.\n",
    "\n",
    "Example 1:\n",
    "Input: s = \"leetcode\"\n",
    "Output: 0\n",
    "\n",
    "Example 2:\n",
    "Input: s = \"loveleetcode\"\n",
    "Output: 2\n",
    "\n",
    "Example 3:\n",
    "Input: s = \"aabb\"\n",
    "Output: -1\n",
    "\n",
    "Constraints:\n",
    "a. 1 <= s.length <= 10^5\n",
    "b. s consists of only lowercase English letters."
   ]
  },
  {
   "cell_type": "code",
   "execution_count": 3,
   "id": "c0df7e89",
   "metadata": {},
   "outputs": [],
   "source": [
    "def uniquechar(s):\n",
    "    count = {} \n",
    "    \n",
    "    for char in s:\n",
    "        if char in count:\n",
    "            count[char] += 1\n",
    "        else:\n",
    "            count[char] = 1\n",
    "    \n",
    "    \n",
    "    for i, char in enumerate(s):\n",
    "        if count[char] == 1:\n",
    "            return i\n",
    "    \n",
    "    return -1"
   ]
  },
  {
   "cell_type": "code",
   "execution_count": 5,
   "id": "914984ee",
   "metadata": {},
   "outputs": [
    {
     "name": "stdout",
     "output_type": "stream",
     "text": [
      "0\n"
     ]
    }
   ],
   "source": [
    "# Test case 1\n",
    "s1 = \"leetcode\"\n",
    "print(uniquechar(s1))\n"
   ]
  },
  {
   "cell_type": "code",
   "execution_count": 6,
   "id": "a3c80345",
   "metadata": {},
   "outputs": [
    {
     "name": "stdout",
     "output_type": "stream",
     "text": [
      "2\n"
     ]
    }
   ],
   "source": [
    "# Test case 2\n",
    "s2 = \"loveleetcode\"\n",
    "print(uniquechar(s2))  # Output: 2"
   ]
  },
  {
   "cell_type": "code",
   "execution_count": 7,
   "id": "20bca046",
   "metadata": {},
   "outputs": [
    {
     "name": "stdout",
     "output_type": "stream",
     "text": [
      "-1\n"
     ]
    }
   ],
   "source": [
    "# Test case 3\n",
    "s3 = \"aabb\"\n",
    "print(uniquechar(s3))  # Output: -1"
   ]
  }
 ],
 "metadata": {
  "kernelspec": {
   "display_name": "Python 3 (ipykernel)",
   "language": "python",
   "name": "python3"
  },
  "language_info": {
   "codemirror_mode": {
    "name": "ipython",
    "version": 3
   },
   "file_extension": ".py",
   "mimetype": "text/x-python",
   "name": "python",
   "nbconvert_exporter": "python",
   "pygments_lexer": "ipython3",
   "version": "3.10.9"
  }
 },
 "nbformat": 4,
 "nbformat_minor": 5
}
